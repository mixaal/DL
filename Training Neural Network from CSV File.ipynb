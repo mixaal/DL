{
 "cells": [
  {
   "cell_type": "markdown",
   "metadata": {},
   "source": [
    "# CSV File - Categorical and Numerical Columns in Tensorflow\n",
    "\n",
    "This demo takes a CSV file (can be on object store with a pre-authenticated URL) and uses different encoders to train a sequential model.\n",
    "\n",
    "See the following demo on categorical columns in tensorflow:\n",
    "https://www.tensorflow.org/tutorials/structured_data/feature_columns"
   ]
  },
  {
   "cell_type": "code",
   "execution_count": 2,
   "metadata": {},
   "outputs": [
    {
     "data": {
      "text/html": [
       "<div>\n",
       "<style scoped>\n",
       "    .dataframe tbody tr th:only-of-type {\n",
       "        vertical-align: middle;\n",
       "    }\n",
       "\n",
       "    .dataframe tbody tr th {\n",
       "        vertical-align: top;\n",
       "    }\n",
       "\n",
       "    .dataframe thead th {\n",
       "        text-align: right;\n",
       "    }\n",
       "</style>\n",
       "<table border=\"1\" class=\"dataframe\">\n",
       "  <thead>\n",
       "    <tr style=\"text-align: right;\">\n",
       "      <th></th>\n",
       "      <th>case</th>\n",
       "      <th>cc3</th>\n",
       "      <th>country</th>\n",
       "      <th>year</th>\n",
       "      <th>systemic_crisis</th>\n",
       "      <th>exch_usd</th>\n",
       "      <th>domestic_debt_in_default</th>\n",
       "      <th>sovereign_external_debt_default</th>\n",
       "      <th>gdp_weighted_default</th>\n",
       "      <th>inflation_annual_cpi</th>\n",
       "      <th>independence</th>\n",
       "      <th>currency_crises</th>\n",
       "      <th>inflation_crises</th>\n",
       "      <th>banking_crisis</th>\n",
       "    </tr>\n",
       "  </thead>\n",
       "  <tbody>\n",
       "    <tr>\n",
       "      <th>774</th>\n",
       "      <td>56</td>\n",
       "      <td>ZAF</td>\n",
       "      <td>South Africa</td>\n",
       "      <td>1966</td>\n",
       "      <td>0</td>\n",
       "      <td>0.357100</td>\n",
       "      <td>0</td>\n",
       "      <td>0</td>\n",
       "      <td>0.0</td>\n",
       "      <td>3.638361</td>\n",
       "      <td>1</td>\n",
       "      <td>0</td>\n",
       "      <td>0</td>\n",
       "      <td>no_crisis</td>\n",
       "    </tr>\n",
       "    <tr>\n",
       "      <th>921</th>\n",
       "      <td>69</td>\n",
       "      <td>ZMB</td>\n",
       "      <td>Zambia</td>\n",
       "      <td>1967</td>\n",
       "      <td>0</td>\n",
       "      <td>0.000710</td>\n",
       "      <td>0</td>\n",
       "      <td>0</td>\n",
       "      <td>0.0</td>\n",
       "      <td>5.012225</td>\n",
       "      <td>1</td>\n",
       "      <td>0</td>\n",
       "      <td>0</td>\n",
       "      <td>no_crisis</td>\n",
       "    </tr>\n",
       "    <tr>\n",
       "      <th>763</th>\n",
       "      <td>56</td>\n",
       "      <td>ZAF</td>\n",
       "      <td>South Africa</td>\n",
       "      <td>1955</td>\n",
       "      <td>0</td>\n",
       "      <td>0.357150</td>\n",
       "      <td>0</td>\n",
       "      <td>0</td>\n",
       "      <td>0.0</td>\n",
       "      <td>1.699036</td>\n",
       "      <td>1</td>\n",
       "      <td>0</td>\n",
       "      <td>0</td>\n",
       "      <td>no_crisis</td>\n",
       "    </tr>\n",
       "    <tr>\n",
       "      <th>262</th>\n",
       "      <td>15</td>\n",
       "      <td>CIV</td>\n",
       "      <td>Ivory Coast</td>\n",
       "      <td>1994</td>\n",
       "      <td>0</td>\n",
       "      <td>540.000000</td>\n",
       "      <td>0</td>\n",
       "      <td>1</td>\n",
       "      <td>0.0</td>\n",
       "      <td>25.956000</td>\n",
       "      <td>1</td>\n",
       "      <td>1</td>\n",
       "      <td>1</td>\n",
       "      <td>no_crisis</td>\n",
       "    </tr>\n",
       "    <tr>\n",
       "      <th>896</th>\n",
       "      <td>63</td>\n",
       "      <td>TUN</td>\n",
       "      <td>Tunisia</td>\n",
       "      <td>2014</td>\n",
       "      <td>0</td>\n",
       "      <td>1.862412</td>\n",
       "      <td>0</td>\n",
       "      <td>0</td>\n",
       "      <td>0.0</td>\n",
       "      <td>4.924000</td>\n",
       "      <td>1</td>\n",
       "      <td>0</td>\n",
       "      <td>0</td>\n",
       "      <td>no_crisis</td>\n",
       "    </tr>\n",
       "  </tbody>\n",
       "</table>\n",
       "</div>"
      ],
      "text/plain": [
       "     case  cc3       country  year  systemic_crisis    exch_usd  \\\n",
       "774    56  ZAF  South Africa  1966                0    0.357100   \n",
       "921    69  ZMB        Zambia  1967                0    0.000710   \n",
       "763    56  ZAF  South Africa  1955                0    0.357150   \n",
       "262    15  CIV   Ivory Coast  1994                0  540.000000   \n",
       "896    63  TUN       Tunisia  2014                0    1.862412   \n",
       "\n",
       "     domestic_debt_in_default  sovereign_external_debt_default  \\\n",
       "774                         0                                0   \n",
       "921                         0                                0   \n",
       "763                         0                                0   \n",
       "262                         0                                1   \n",
       "896                         0                                0   \n",
       "\n",
       "     gdp_weighted_default  inflation_annual_cpi  independence  \\\n",
       "774                   0.0              3.638361             1   \n",
       "921                   0.0              5.012225             1   \n",
       "763                   0.0              1.699036             1   \n",
       "262                   0.0             25.956000             1   \n",
       "896                   0.0              4.924000             1   \n",
       "\n",
       "     currency_crises  inflation_crises banking_crisis  \n",
       "774                0                 0      no_crisis  \n",
       "921                0                 0      no_crisis  \n",
       "763                0                 0      no_crisis  \n",
       "262                1                 1      no_crisis  \n",
       "896                0                 0      no_crisis  "
      ]
     },
     "execution_count": 2,
     "metadata": {},
     "output_type": "execute_result"
    }
   ],
   "source": [
    "import pandas as pd\n",
    "data=pd.read_csv('/root/african_crises.csv')\n",
    "data.sample(5)\n",
    "\n",
    "\n"
   ]
  },
  {
   "cell_type": "code",
   "execution_count": 3,
   "metadata": {},
   "outputs": [
    {
     "name": "stdout",
     "output_type": "stream",
     "text": [
      "(677, 'train examples')\n",
      "(170, 'validation examples')\n",
      "(212, 'test examples')\n"
     ]
    }
   ],
   "source": [
    "from sklearn.preprocessing import LabelEncoder\n",
    "from tensorflow import feature_column\n",
    "from tensorflow.keras import layers\n",
    "from sklearn.model_selection import train_test_split\n",
    "\n",
    "\n",
    "# Specify the Object Stores pre-authenticated URL\n",
    "#fp = tf.keras.utils.get_file(fname='/root/african_crises_copy.csv', origin='file:/root/african_crises.csv')\n",
    "\n",
    "train, test = train_test_split(data, test_size=0.2)\n",
    "train, val = train_test_split(train, test_size=0.2)\n",
    "print(len(train), 'train examples')\n",
    "print(len(val), 'validation examples')\n",
    "print(len(test), 'test examples')\n",
    "\n",
    "\n"
   ]
  },
  {
   "cell_type": "code",
   "execution_count": 6,
   "metadata": {},
   "outputs": [
    {
     "name": "stdout",
     "output_type": "stream",
     "text": [
      "('Every feature:', ['case', 'country', 'systemic_crisis', 'exch_usd', 'sovereign_external_debt_default', 'domestic_debt_in_default', 'cc3', 'year', 'currency_crises', 'gdp_weighted_default', 'inflation_annual_cpi', 'inflation_crises', 'independence'])\n",
      "('A batch of inflation cpi:', <tf.Tensor: id=93, shape=(32,), dtype=float32, numpy=\n",
      "array([ 14.43033   ,  14.61      ,   2.715967  ,   5.784876  ,\n",
      "         1.7848036 ,  12.17431   ,   0.84033614,  34.905     ,\n",
      "        10.551537  , -17.424242  ,  10.673     ,  -2.1524835 ,\n",
      "         8.229915  ,   3.6166365 ,  17.856     ,   9.210526  ,\n",
      "         7.9268293 ,   5.329676  ,   7.32      ,   2.584     ,\n",
      "        -0.658     ,  45.979     ,  12.552797  ,  -2.171162  ,\n",
      "       -10.874253  ,   1.1946155 ,  15.38672   ,   4.336     ,\n",
      "         7.617     ,   1.493     ,  13.384     ,  14.236     ],\n",
      "      dtype=float32)>)\n",
      "('A batch of targets:', <tf.Tensor: id=98, shape=(32,), dtype=int64, numpy=\n",
      "array([1, 1, 1, 1, 1, 1, 1, 0, 1, 1, 0, 1, 1, 1, 1, 0, 1, 1, 1, 1, 0, 0,\n",
      "       1, 1, 1, 1, 1, 1, 1, 1, 1, 1])>)\n"
     ]
    }
   ],
   "source": [
    "# Vocabulary for output columns\n",
    "#banking_crisis_voc = data['banking_crisis'].unique()\n",
    "\n",
    "\n",
    "# A utility method to create a tf.data dataset from a Pandas Dataframe\n",
    "def df_to_dataset(dataframe, shuffle=True, batch_size=32):\n",
    "  dataframe = dataframe.copy()\n",
    "  labels = dataframe.pop('banking_crisis')\n",
    "  le = LabelEncoder()\n",
    "  le.fit(labels)\n",
    "  Y=le.transform(labels)\n",
    "  ds = tf.data.Dataset.from_tensor_slices((dict(dataframe), Y))\n",
    "  if shuffle:\n",
    "    ds = ds.shuffle(buffer_size=len(dataframe))\n",
    "  ds = ds.batch(batch_size)\n",
    "  return ds\n",
    "\n",
    "batch_size = 32 # A small batch sized is used for demonstration purposes\n",
    "train_ds = df_to_dataset(train, batch_size=batch_size)\n",
    "val_ds = df_to_dataset(val, shuffle=False, batch_size=batch_size)\n",
    "test_ds = df_to_dataset(test, shuffle=False, batch_size=batch_size)\n",
    "\n",
    "#display(train_ds)\n",
    "for feature_batch, label_batch in train_ds.take(1):\n",
    "  print('Every feature:', list(feature_batch.keys()))\n",
    "  print('A batch of inflation cpi:', feature_batch['inflation_annual_cpi'])\n",
    "  print('A batch of targets:', label_batch )\n",
    "\n"
   ]
  },
  {
   "cell_type": "code",
   "execution_count": 8,
   "metadata": {},
   "outputs": [
    {
     "data": {
      "text/plain": [
       "[NumericColumn(key='inflation_annual_cpi', shape=(1,), default_value=None, dtype=tf.float32, normalizer_fn=None),\n",
       " NumericColumn(key='year', shape=(1,), default_value=None, dtype=tf.float32, normalizer_fn=None),\n",
       " NumericColumn(key='exch_usd', shape=(1,), default_value=None, dtype=tf.float32, normalizer_fn=None),\n",
       " NumericColumn(key='gdp_weighted_default', shape=(1,), default_value=None, dtype=tf.float32, normalizer_fn=None),\n",
       " NumericColumn(key='independence', shape=(1,), default_value=None, dtype=tf.float32, normalizer_fn=None),\n",
       " NumericColumn(key='inflation_crises', shape=(1,), default_value=None, dtype=tf.float32, normalizer_fn=None),\n",
       " NumericColumn(key='domestic_debt_in_default', shape=(1,), default_value=None, dtype=tf.float32, normalizer_fn=None),\n",
       " IndicatorColumn(categorical_column=VocabularyListCategoricalColumn(key='country', vocabulary_list=('Algeria', 'Angola', 'Central African Republic', 'Ivory Coast', 'Egypt', 'Kenya', 'Mauritius', 'Morocco', 'Nigeria', 'South Africa', 'Tunisia', 'Zambia', 'Zimbabwe'), dtype=tf.string, default_value=-1, num_oov_buckets=0))]"
      ]
     },
     "metadata": {},
     "output_type": "display_data"
    }
   ],
   "source": [
    "feature_columns = []\n",
    "\n",
    "#TODO: independence, inflation crises is category column with identity\n",
    "\n",
    "# numeric cols\n",
    "for header in ['inflation_annual_cpi', 'year', 'exch_usd', 'gdp_weighted_default', 'independence', 'inflation_crises', 'domestic_debt_in_default']:\n",
    "  feature_columns.append(feature_column.numeric_column(header))\n",
    "feature_layer = tf.keras.layers.DenseFeatures(feature_columns)\n",
    "\n",
    "# Vocabulary\n",
    "countries_voc = data['country'].unique()\n",
    "\n",
    "country = feature_column.categorical_column_with_vocabulary_list(\n",
    "      'country', countries_voc)\n",
    "country_one_hot = feature_column.indicator_column(country)\n",
    "feature_columns.append(country_one_hot)\n",
    "display(feature_columns)\n",
    "\n",
    "\n"
   ]
  },
  {
   "cell_type": "code",
   "execution_count": 14,
   "metadata": {},
   "outputs": [
    {
     "name": "stdout",
     "output_type": "stream",
     "text": [
      "Epoch 1/5\n",
      "22/22 [==============================] - 1s 44ms/step - loss: 15.9676 - accuracy: 0.8316 - val_loss: 0.0000e+00 - val_accuracy: 0.0000e+00\n",
      "Epoch 2/5\n",
      "22/22 [==============================] - 0s 6ms/step - loss: 4.6751 - accuracy: 0.8479 - val_loss: 2.3237 - val_accuracy: 0.8941\n",
      "Epoch 3/5\n",
      "22/22 [==============================] - 0s 6ms/step - loss: 1.4684 - accuracy: 0.8922 - val_loss: 2.1956 - val_accuracy: 0.1235\n",
      "Epoch 4/5\n",
      "22/22 [==============================] - 0s 6ms/step - loss: 3.7978 - accuracy: 0.8405 - val_loss: 0.8420 - val_accuracy: 0.9176\n",
      "Epoch 5/5\n",
      "22/22 [==============================] - 0s 6ms/step - loss: 4.1873 - accuracy: 0.8257 - val_loss: 5.4504 - val_accuracy: 0.9176\n"
     ]
    }
   ],
   "source": [
    "model = tf.keras.Sequential([\n",
    "  feature_layer,\n",
    "  layers.Dense(128, activation='relu'),\n",
    "  layers.Dense(128, activation='relu'),\n",
    "  layers.Dense(1, activation='sigmoid')\n",
    "])\n",
    "\n",
    "model.compile(optimizer='adam',\n",
    "              loss='binary_crossentropy',\n",
    "              metrics=['accuracy'])\n",
    "\n",
    "history = model.fit(train_ds,\n",
    "          validation_data=val_ds,\n",
    "          epochs=5)\n"
   ]
  },
  {
   "cell_type": "code",
   "execution_count": 16,
   "metadata": {},
   "outputs": [],
   "source": [
    "import matplotlib.pyplot as plt\n",
    "acc = history.history['accuracy']\n",
    "val_acc = history.history['val_accuracy']\n",
    "loss = history.history['loss']\n",
    "val_loss = history.history['val_loss']\n",
    "\n",
    "epochs = range(1, len(acc)+1)\n"
   ]
  },
  {
   "cell_type": "code",
   "execution_count": 17,
   "metadata": {},
   "outputs": [
    {
     "data": {
      "text/plain": [
       "<Figure size 432x288 with 0 Axes>"
      ]
     },
     "execution_count": 17,
     "metadata": {},
     "output_type": "execute_result"
    },
    {
     "data": {
      "image/png": "[encoded data removed]",
      "text/plain": [
       "<Figure size 432x288 with 1 Axes>"
      ]
     },
     "metadata": {
      "needs_background": "light"
     },
     "output_type": "display_data"
    },
    {
     "data": {
      "text/plain": [
       "<Figure size 432x288 with 0 Axes>"
      ]
     },
     "metadata": {},
     "output_type": "display_data"
    }
   ],
   "source": [
    "plt.plot(epochs, acc, 'bo', label='Training accuracy')\n",
    "plt.plot(epochs, val_acc, 'b', label='Validation accuracy')\n",
    "plt.title(\"Training and Validation Accuracy\")\n",
    "plt.legend()\n",
    "plt.figure()"
   ]
  },
  {
   "cell_type": "code",
   "execution_count": 18,
   "metadata": {},
   "outputs": [
    {
     "data": {
      "text/plain": [
       "<Figure size 432x288 with 0 Axes>"
      ]
     },
     "execution_count": 18,
     "metadata": {},
     "output_type": "execute_result"
    },
    {
     "data": {
      "image/png": "[encoded data removed]",
      "text/plain": [
       "<Figure size 432x288 with 1 Axes>"
      ]
     },
     "metadata": {
      "needs_background": "light"
     },
     "output_type": "display_data"
    },
    {
     "data": {
      "text/plain": [
       "<Figure size 432x288 with 0 Axes>"
      ]
     },
     "metadata": {},
     "output_type": "display_data"
    }
   ],
   "source": [
    "plt.plot(epochs, loss, 'bo', label='Training loss')\n",
    "plt.plot(epochs, val_loss, 'b', label='Validation loss')\n",
    "plt.title(\"Training and Validation Loss\")\n",
    "plt.legend()\n",
    "plt.figure()"
   ]
  },
  {
   "cell_type": "code",
   "execution_count": null,
   "metadata": {},
   "outputs": [],
   "source": []
  }
 ],
 "metadata": {
  "kernelspec": {
   "display_name": "Python 2",
   "language": "python",
   "name": "python2"
  },
  "language_info": {
   "codemirror_mode": {
    "name": "ipython",
    "version": 2
   },
   "file_extension": ".py",
   "mimetype": "text/x-python",
   "name": "python",
   "nbconvert_exporter": "python",
   "pygments_lexer": "ipython2",
   "version": "2.7.16"
  }
 },
 "nbformat": 4,
 "nbformat_minor": 2
}
