{
 "cells": [
  {
   "cell_type": "code",
   "execution_count": 1,
   "metadata": {},
   "outputs": [
    {
     "data": {
      "application/vnd.jupyter.widget-view+json": {
       "model_id": "0a457a96465348a385e9e784ab432041",
       "version_major": 2,
       "version_minor": 0
      },
      "text/plain": [
       "aW50ZXJhY3RpdmUoY2hpbGRyZW49KERyb3Bkb3duKGRlc2NyaXB0aW9uPXUnZmlsZScsIG9wdGlvbnM9KCdkZXB0aC1wcmVkaWN0ZWQtNTEucG5nJywgJ2RlcHRoLXByZWRpY3RlZC00NS5wbmfigKY=\n"
      ]
     },
     "metadata": {},
     "output_type": "display_data"
    }
   ],
   "source": [
    "import os\n",
    "import ipywidgets as widgets\n",
    "from ipywidgets import interact, interact_manual\n",
    "from IPython.display import Image\n",
    "\n",
    "@interact\n",
    "def show_images(file=os.listdir('./')):\n",
    "    display(Image('./'+file))"
   ]
  },
  {
   "cell_type": "code",
   "execution_count": 2,
   "metadata": {},
   "outputs": [],
   "source": [
    "import os\n",
    "import pymysql\n",
    "import pandas as pd\n",
    "host = 'localhost'\n",
    "port = 3306\n",
    "user = 'root'\n",
    "password = os.getenv('MYSQL_PASSWORD')\n",
    "database = 'money'"
   ]
  },
  {
   "cell_type": "code",
   "execution_count": 3,
   "metadata": {},
   "outputs": [],
   "source": [
    "conn = pymysql.connect(\n",
    "    host=host,\n",
    "    port=port,\n",
    "    user=user,\n",
    "    passwd=password,\n",
    "    db=database,\n",
    "    charset='utf8mb4')"
   ]
  },
  {
   "cell_type": "code",
   "execution_count": 4,
   "metadata": {},
   "outputs": [],
   "source": [
    "import matplotlib.pyplot as plt\n",
    "import seaborn as sns\n",
    "sns.set(style='whitegrid')"
   ]
  },
  {
   "cell_type": "code",
   "execution_count": 5,
   "metadata": {},
   "outputs": [
    {
     "data": {
      "text/html": [
       "<div>\n",
       "<style scoped>\n",
       "    .dataframe tbody tr th:only-of-type {\n",
       "        vertical-align: middle;\n",
       "    }\n",
       "\n",
       "    .dataframe tbody tr th {\n",
       "        vertical-align: top;\n",
       "    }\n",
       "\n",
       "    .dataframe thead th {\n",
       "        text-align: right;\n",
       "    }\n",
       "</style>\n",
       "<table border=\"1\" class=\"dataframe\">\n",
       "  <thead>\n",
       "    <tr style=\"text-align: right;\">\n",
       "      <th></th>\n",
       "      <th>day</th>\n",
       "      <th>go</th>\n",
       "      <th>so</th>\n",
       "      <th>ratio</th>\n",
       "      <th>g_int</th>\n",
       "      <th>s_int</th>\n",
       "    </tr>\n",
       "  </thead>\n",
       "  <tbody>\n",
       "    <tr>\n",
       "      <th>0</th>\n",
       "      <td>2000-01-03</td>\n",
       "      <td>288.00</td>\n",
       "      <td>5.40</td>\n",
       "      <td>53.333332</td>\n",
       "      <td>158543</td>\n",
       "      <td>76395</td>\n",
       "    </tr>\n",
       "    <tr>\n",
       "      <th>1</th>\n",
       "      <td>2000-01-04</td>\n",
       "      <td>288.50</td>\n",
       "      <td>5.39</td>\n",
       "      <td>53.525048</td>\n",
       "      <td>155835</td>\n",
       "      <td>72777</td>\n",
       "    </tr>\n",
       "    <tr>\n",
       "      <th>2</th>\n",
       "      <td>2000-01-05</td>\n",
       "      <td>281.25</td>\n",
       "      <td>5.32</td>\n",
       "      <td>52.866540</td>\n",
       "      <td>135005</td>\n",
       "      <td>74093</td>\n",
       "    </tr>\n",
       "    <tr>\n",
       "      <th>3</th>\n",
       "      <td>2000-01-06</td>\n",
       "      <td>279.75</td>\n",
       "      <td>5.13</td>\n",
       "      <td>54.532163</td>\n",
       "      <td>158161</td>\n",
       "      <td>73036</td>\n",
       "    </tr>\n",
       "    <tr>\n",
       "      <th>4</th>\n",
       "      <td>2000-01-07</td>\n",
       "      <td>280.90</td>\n",
       "      <td>5.10</td>\n",
       "      <td>55.078431</td>\n",
       "      <td>143543</td>\n",
       "      <td>72511</td>\n",
       "    </tr>\n",
       "  </tbody>\n",
       "</table>\n",
       "</div>"
      ],
      "text/plain": [
       "          day      go    so      ratio   g_int  s_int\n",
       "0  2000-01-03  288.00  5.40  53.333332  158543  76395\n",
       "1  2000-01-04  288.50  5.39  53.525048  155835  72777\n",
       "2  2000-01-05  281.25  5.32  52.866540  135005  74093\n",
       "3  2000-01-06  279.75  5.13  54.532163  158161  73036\n",
       "4  2000-01-07  280.90  5.10  55.078431  143543  72511"
      ]
     },
     "execution_count": 5,
     "metadata": {},
     "output_type": "execute_result"
    }
   ],
   "source": [
    "df = pd.read_sql_query(\n",
    "    \"\"\"\n",
    "    select GOLD.day, \n",
    "           GOLD.open as go, \n",
    "           SILVER.open as so, \n",
    "           GOLD.open/SILVER.open as ratio, \n",
    "           GOLD.open_interest as g_int, \n",
    "           SILVER.open_interest as s_int \n",
    "           FROM ( select name, day, open, open_interest from comm_daily where name='GC' ) GOLD \n",
    "           JOIN ( select name, day, open, open_interest from comm_daily where name='SI') SILVER \n",
    "           ON SILVER.day=GOLD.day\n",
    "    \"\"\"\n",
    "    ,\n",
    "    conn\n",
    ")\n",
    "df.head()"
   ]
  },
  {
   "cell_type": "code",
   "execution_count": 6,
   "metadata": {},
   "outputs": [
    {
     "data": {
      "application/vnd.jupyter.widget-view+json": {
       "model_id": "7a81132a50d04a12880208ba5233de35",
       "version_major": 2,
       "version_minor": 0
      },
      "text/plain": [
       "aW50ZXJhY3RpdmUoY2hpbGRyZW49KFRleHQodmFsdWU9dSdnbycsIGRlc2NyaXB0aW9uPXUnY29sdW1uJyksIEludFNsaWRlcih2YWx1ZT0xMjAwLCBkZXNjcmlwdGlvbj11J3ByaWNlJywgbWHigKY=\n"
      ]
     },
     "metadata": {},
     "output_type": "display_data"
    }
   ],
   "source": [
    "@interact\n",
    "def show_articles_more_than(column='go', price=1200):\n",
    "    return df.loc[df[column] > price]"
   ]
  },
  {
   "cell_type": "code",
   "execution_count": 7,
   "metadata": {},
   "outputs": [
    {
     "data": {
      "application/vnd.jupyter.widget-view+json": {
       "model_id": "30e7262f60ca498e8d70a7b7b10e4622",
       "version_major": 2,
       "version_minor": 0
      },
      "text/plain": [
       "aW50ZXJhY3RpdmUoY2hpbGRyZW49KFRleHQodmFsdWU9dSdnbycsIGRlc2NyaXB0aW9uPXUnY29sdW1uJyksIEludFNsaWRlcih2YWx1ZT01MDAsIGRlc2NyaXB0aW9uPXUncHJpY2UnLCBtYXjigKY=\n"
      ]
     },
     "metadata": {},
     "output_type": "display_data"
    }
   ],
   "source": [
    "@interact\n",
    "def plot_dataset(column='go', price=500):\n",
    "    ds = df.loc[df[column] > price]\n",
    "    sns.lineplot(ds['day'], ds[column], label='GOLD open price', color='gold')"
   ]
  },
  {
   "cell_type": "code",
   "execution_count": null,
   "metadata": {},
   "outputs": [],
   "source": []
  }
 ],
 "metadata": {
  "kernelspec": {
   "display_name": "Python 2",
   "language": "python",
   "name": "python2"
  },
  "language_info": {
   "codemirror_mode": {
    "name": "ipython",
    "version": 2
   },
   "file_extension": ".py",
   "mimetype": "text/x-python",
   "name": "python",
   "nbconvert_exporter": "python",
   "pygments_lexer": "ipython2",
   "version": "2.7.16"
  }
 },
 "nbformat": 4,
 "nbformat_minor": 2
}
