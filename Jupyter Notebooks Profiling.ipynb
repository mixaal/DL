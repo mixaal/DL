{
 "cells": [
  {
   "cell_type": "markdown",
   "metadata": {},
   "source": [
    "# Jupyter Notebooks Profiling\n",
    "\n",
    "For original article, see:\n",
    "\n",
    "https://towardsdatascience.com/speed-up-jupyter-notebooks-20716cbe2025"
   ]
  },
  {
   "cell_type": "code",
   "execution_count": 4,
   "metadata": {},
   "outputs": [],
   "source": [
    "from random import random\n",
    "\n",
    "def estimate_pi(n=1e7):\n",
    "    \"\"\"Estimate pi with monte carlo simulation.\n",
    "    \n",
    "    Arguments:\n",
    "        n: number of simulations\n",
    "    \"\"\"\n",
    "    in_circle = 0\n",
    "    total = n\n",
    "    \n",
    "    while n != 0:\n",
    "        prec_x = random()\n",
    "        prec_y = random()\n",
    "        if pow(prec_x, 2) + pow(prec_y, 2) <= 1:\n",
    "            in_circle += 1 # inside the circle\n",
    "        n -= 1\n",
    "        \n",
    "    return 4 * in_circle / total"
   ]
  },
  {
   "cell_type": "code",
   "execution_count": 5,
   "metadata": {},
   "outputs": [
    {
     "name": "stdout",
     "output_type": "stream",
     "text": [
      "CPU times: user 6 s, sys: 470 µs, total: 6 s\n",
      "Wall time: 6 s\n"
     ]
    },
    {
     "data": {
      "text/plain": [
       "3.1411612"
      ]
     },
     "execution_count": 5,
     "metadata": {},
     "output_type": "execute_result"
    }
   ],
   "source": [
    "%time estimate_pi()"
   ]
  },
  {
   "cell_type": "code",
   "execution_count": 6,
   "metadata": {},
   "outputs": [
    {
     "name": "stdout",
     "output_type": "stream",
     "text": [
      "5 loops, best of 2: 6 s per loop\n"
     ]
    }
   ],
   "source": [
    "%timeit -r 2 -n 5 estimate_pi()"
   ]
  },
  {
   "cell_type": "code",
   "execution_count": 7,
   "metadata": {},
   "outputs": [
    {
     "name": "stdout",
     "output_type": "stream",
     "text": [
      " "
     ]
    }
   ],
   "source": [
    "%prun estimate_pi()"
   ]
  },
  {
   "cell_type": "code",
   "execution_count": 8,
   "metadata": {},
   "outputs": [
    {
     "name": "stdout",
     "output_type": "stream",
     "text": [
      "\u001b[33mDEPRECATION: Python 2.7 will reach the end of its life on January 1st, 2020. Please upgrade your Python as Python 2.7 won't be maintained after that date. A future version of pip will drop support for Python 2.7. More details about Python 2 support in pip, can be found at https://pip.pypa.io/en/latest/development/release-process/#python-2-support\u001b[0m\n",
      "Collecting line_profiler\n",
      "\u001b[?25l  Downloading https://files.pythonhosted.org/packages/14/fc/ecf4e238bb601ff829068e5a72cd1bd67b0ee0ae379db172eb6a0779c6b6/line_profiler-2.1.2.tar.gz (83kB)\n",
      "\u001b[K     |████████████████████████████████| 92kB 11.5MB/s eta 0:00:01\n",
      "\u001b[?25hRequirement already satisfied: IPython>=0.13 in ./venvs/tensorflow/lib/python2.7/site-packages (from line_profiler) (5.8.0)\n",
      "Requirement already satisfied: prompt-toolkit<2.0.0,>=1.0.4 in ./venvs/tensorflow/lib/python2.7/site-packages (from IPython>=0.13->line_profiler) (1.0.18)\n",
      "Requirement already satisfied: setuptools>=18.5 in ./venvs/tensorflow/lib/python2.7/site-packages (from IPython>=0.13->line_profiler) (41.4.0)\n",
      "Requirement already satisfied: pexpect; sys_platform != \"win32\" in ./venvs/tensorflow/lib/python2.7/site-packages (from IPython>=0.13->line_profiler) (4.7.0)\n",
      "Requirement already satisfied: backports.shutil-get-terminal-size; python_version == \"2.7\" in ./venvs/tensorflow/lib/python2.7/site-packages (from IPython>=0.13->line_profiler) (1.0.0)\n",
      "Requirement already satisfied: decorator in /usr/lib/python2.7/site-packages (from IPython>=0.13->line_profiler) (3.4.0)\n",
      "Requirement already satisfied: pygments in ./venvs/tensorflow/lib/python2.7/site-packages (from IPython>=0.13->line_profiler) (2.4.2)\n",
      "Requirement already satisfied: pathlib2; python_version == \"2.7\" or python_version == \"3.3\" in ./venvs/tensorflow/lib/python2.7/site-packages (from IPython>=0.13->line_profiler) (2.3.5)\n",
      "Requirement already satisfied: traitlets>=4.2 in ./venvs/tensorflow/lib/python2.7/site-packages (from IPython>=0.13->line_profiler) (4.3.3)\n",
      "Requirement already satisfied: simplegeneric>0.8 in ./venvs/tensorflow/lib/python2.7/site-packages (from IPython>=0.13->line_profiler) (0.8.1)\n",
      "Requirement already satisfied: pickleshare in ./venvs/tensorflow/lib/python2.7/site-packages (from IPython>=0.13->line_profiler) (0.7.5)\n",
      "Requirement already satisfied: wcwidth in ./venvs/tensorflow/lib/python2.7/site-packages (from prompt-toolkit<2.0.0,>=1.0.4->IPython>=0.13->line_profiler) (0.1.7)\n",
      "Requirement already satisfied: six>=1.9.0 in ./venvs/tensorflow/lib/python2.7/site-packages (from prompt-toolkit<2.0.0,>=1.0.4->IPython>=0.13->line_profiler) (1.11.0)\n",
      "Requirement already satisfied: ptyprocess>=0.5 in ./venvs/tensorflow/lib/python2.7/site-packages (from pexpect; sys_platform != \"win32\"->IPython>=0.13->line_profiler) (0.6.0)\n",
      "Requirement already satisfied: scandir; python_version < \"3.5\" in ./venvs/tensorflow/lib/python2.7/site-packages (from pathlib2; python_version == \"2.7\" or python_version == \"3.3\"->IPython>=0.13->line_profiler) (1.10.0)\n",
      "Requirement already satisfied: ipython-genutils in ./venvs/tensorflow/lib/python2.7/site-packages (from traitlets>=4.2->IPython>=0.13->line_profiler) (0.2.0)\n",
      "Requirement already satisfied: enum34; python_version == \"2.7\" in ./venvs/tensorflow/lib/python2.7/site-packages (from traitlets>=4.2->IPython>=0.13->line_profiler) (1.1.6)\n",
      "Building wheels for collected packages: line-profiler\n",
      "  Building wheel for line-profiler (setup.py) ... \u001b[?25ldone\n",
      "\u001b[?25h  Created wheel for line-profiler: filename=line_profiler-2.1.2-cp27-cp27mu-linux_x86_64.whl size=164015 sha256=f535c3ce3e8902c3d5bf3489013bea9103aa58399e69e0ab12c753ceabb90482\n",
      "  Stored in directory: /root/.cache/pip/wheels/05/7d/9b/aafbe8d78dc2b2c644d2efd2f060ab3258143860142575193a\n",
      "Successfully built line-profiler\n",
      "Installing collected packages: line-profiler\n",
      "Successfully installed line-profiler-2.1.2\n",
      "\u001b[33mWARNING: You are using pip version 19.3; however, version 19.3.1 is available.\n",
      "You should consider upgrading via the 'pip install --upgrade pip' command.\u001b[0m\n"
     ]
    }
   ],
   "source": [
    "!pip install line_profiler"
   ]
  },
  {
   "cell_type": "code",
   "execution_count": 17,
   "metadata": {},
   "outputs": [
    {
     "name": "stdout",
     "output_type": "stream",
     "text": [
      "The line_profiler extension is already loaded. To reload it, use:\n",
      "  %reload_ext line_profiler\n"
     ]
    }
   ],
   "source": [
    "\n",
    "%load_ext line_profiler"
   ]
  },
  {
   "cell_type": "code",
   "execution_count": 13,
   "metadata": {},
   "outputs": [
    {
     "name": "stderr",
     "output_type": "stream",
     "text": [
      "UsageError: Cell magic `%%heat` not found.\n"
     ]
    }
   ],
   "source": [
    "%lprun -f estimate_pi estimate_pi()"
   ]
  },
  {
   "cell_type": "code",
   "execution_count": null,
   "metadata": {},
   "outputs": [],
   "source": []
  }
 ],
 "metadata": {
  "kernelspec": {
   "display_name": "Python 2",
   "language": "python",
   "name": "python2"
  },
  "language_info": {
   "codemirror_mode": {
    "name": "ipython",
    "version": 2
   },
   "file_extension": ".py",
   "mimetype": "text/x-python",
   "name": "python",
   "nbconvert_exporter": "python",
   "pygments_lexer": "ipython2",
   "version": "2.7.5"
  }
 },
 "nbformat": 4,
 "nbformat_minor": 2
}
