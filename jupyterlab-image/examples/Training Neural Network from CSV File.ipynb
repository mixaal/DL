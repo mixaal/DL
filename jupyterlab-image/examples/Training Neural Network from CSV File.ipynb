{
 "cells": [
  {
   "cell_type": "markdown",
   "metadata": {},
   "source": [
    "# CSV File - Categorical and Numerical Columns in Tensorflow\n",
    "\n",
    "This demo takes a CSV file (can be on object store with a pre-authenticated URL) and uses different encoders to train a sequential model.\n",
    "\n",
    "See the following demo on categorical columns in tensorflow:\n",
    "https://www.tensorflow.org/tutorials/structured_data/feature_columns\n",
    "\n",
    "In this tutorial we predict the banking crisis.\n",
    "\n",
    "We use:\n",
    "\n",
    "* LabelEncoder to encode no_crisis, cris values in banking_crisis field, this our output Y vector for prediction\n",
    "* OneHot encoding to encode country name (Kenya, Egypt, etc.)\n",
    "* Feature vector construction by selecting columns of interest: inflation_annual_cpi, year, dollar exchange ratio, etc."
   ]
  },
  {
   "cell_type": "code",
   "execution_count": 1,
   "metadata": {},
   "outputs": [
    {
     "data": {
      "text/html": [
       "<div>\n",
       "<style scoped>\n",
       "    .dataframe tbody tr th:only-of-type {\n",
       "        vertical-align: middle;\n",
       "    }\n",
       "\n",
       "    .dataframe tbody tr th {\n",
       "        vertical-align: top;\n",
       "    }\n",
       "\n",
       "    .dataframe thead th {\n",
       "        text-align: right;\n",
       "    }\n",
       "</style>\n",
       "<table border=\"1\" class=\"dataframe\">\n",
       "  <thead>\n",
       "    <tr style=\"text-align: right;\">\n",
       "      <th></th>\n",
       "      <th>case</th>\n",
       "      <th>cc3</th>\n",
       "      <th>country</th>\n",
       "      <th>year</th>\n",
       "      <th>systemic_crisis</th>\n",
       "      <th>exch_usd</th>\n",
       "      <th>domestic_debt_in_default</th>\n",
       "      <th>sovereign_external_debt_default</th>\n",
       "      <th>gdp_weighted_default</th>\n",
       "      <th>inflation_annual_cpi</th>\n",
       "      <th>independence</th>\n",
       "      <th>currency_crises</th>\n",
       "      <th>inflation_crises</th>\n",
       "      <th>banking_crisis</th>\n",
       "    </tr>\n",
       "  </thead>\n",
       "  <tbody>\n",
       "    <tr>\n",
       "      <th>190</th>\n",
       "      <td>10</td>\n",
       "      <td>CAF</td>\n",
       "      <td>Central African Republic</td>\n",
       "      <td>1985</td>\n",
       "      <td>0</td>\n",
       "      <td>378.049733</td>\n",
       "      <td>0</td>\n",
       "      <td>1</td>\n",
       "      <td>0.0</td>\n",
       "      <td>10.457000</td>\n",
       "      <td>1</td>\n",
       "      <td>0</td>\n",
       "      <td>0</td>\n",
       "      <td>no_crisis</td>\n",
       "    </tr>\n",
       "    <tr>\n",
       "      <th>453</th>\n",
       "      <td>35</td>\n",
       "      <td>KEN</td>\n",
       "      <td>Kenya</td>\n",
       "      <td>1963</td>\n",
       "      <td>0</td>\n",
       "      <td>7.142900</td>\n",
       "      <td>0</td>\n",
       "      <td>0</td>\n",
       "      <td>0.0</td>\n",
       "      <td>0.000000</td>\n",
       "      <td>1</td>\n",
       "      <td>0</td>\n",
       "      <td>0</td>\n",
       "      <td>no_crisis</td>\n",
       "    </tr>\n",
       "    <tr>\n",
       "      <th>479</th>\n",
       "      <td>35</td>\n",
       "      <td>KEN</td>\n",
       "      <td>Kenya</td>\n",
       "      <td>1989</td>\n",
       "      <td>1</td>\n",
       "      <td>21.601000</td>\n",
       "      <td>0</td>\n",
       "      <td>0</td>\n",
       "      <td>0.0</td>\n",
       "      <td>7.617000</td>\n",
       "      <td>1</td>\n",
       "      <td>1</td>\n",
       "      <td>0</td>\n",
       "      <td>no_crisis</td>\n",
       "    </tr>\n",
       "    <tr>\n",
       "      <th>340</th>\n",
       "      <td>19</td>\n",
       "      <td>EGY</td>\n",
       "      <td>Egypt</td>\n",
       "      <td>1917</td>\n",
       "      <td>0</td>\n",
       "      <td>0.204900</td>\n",
       "      <td>0</td>\n",
       "      <td>0</td>\n",
       "      <td>0.0</td>\n",
       "      <td>35.480022</td>\n",
       "      <td>1</td>\n",
       "      <td>0</td>\n",
       "      <td>1</td>\n",
       "      <td>no_crisis</td>\n",
       "    </tr>\n",
       "    <tr>\n",
       "      <th>627</th>\n",
       "      <td>40</td>\n",
       "      <td>MAR</td>\n",
       "      <td>Morocco</td>\n",
       "      <td>1994</td>\n",
       "      <td>0</td>\n",
       "      <td>8.959600</td>\n",
       "      <td>0</td>\n",
       "      <td>0</td>\n",
       "      <td>0.0</td>\n",
       "      <td>5.142000</td>\n",
       "      <td>1</td>\n",
       "      <td>0</td>\n",
       "      <td>0</td>\n",
       "      <td>no_crisis</td>\n",
       "    </tr>\n",
       "  </tbody>\n",
       "</table>\n",
       "</div>"
      ],
      "text/plain": [
       "     case  cc3                   country  year  systemic_crisis    exch_usd  \\\n",
       "190    10  CAF  Central African Republic  1985                0  378.049733   \n",
       "453    35  KEN                     Kenya  1963                0    7.142900   \n",
       "479    35  KEN                     Kenya  1989                1   21.601000   \n",
       "340    19  EGY                     Egypt  1917                0    0.204900   \n",
       "627    40  MAR                   Morocco  1994                0    8.959600   \n",
       "\n",
       "     domestic_debt_in_default  sovereign_external_debt_default  \\\n",
       "190                         0                                1   \n",
       "453                         0                                0   \n",
       "479                         0                                0   \n",
       "340                         0                                0   \n",
       "627                         0                                0   \n",
       "\n",
       "     gdp_weighted_default  inflation_annual_cpi  independence  \\\n",
       "190                   0.0             10.457000             1   \n",
       "453                   0.0              0.000000             1   \n",
       "479                   0.0              7.617000             1   \n",
       "340                   0.0             35.480022             1   \n",
       "627                   0.0              5.142000             1   \n",
       "\n",
       "     currency_crises  inflation_crises banking_crisis  \n",
       "190                0                 0      no_crisis  \n",
       "453                0                 0      no_crisis  \n",
       "479                1                 0      no_crisis  \n",
       "340                0                 1      no_crisis  \n",
       "627                0                 0      no_crisis  "
      ]
     },
     "execution_count": 1,
     "metadata": {},
     "output_type": "execute_result"
    }
   ],
   "source": [
    "import pandas as pd\n",
    "data=pd.read_csv('../datasets/african_crises.csv')\n",
    "data.sample(5)\n",
    "\n",
    "\n"
   ]
  },
  {
   "cell_type": "code",
   "execution_count": 2,
   "metadata": {},
   "outputs": [
    {
     "name": "stdout",
     "output_type": "stream",
     "text": [
      "677 train examples\n",
      "170 validation examples\n",
      "212 test examples\n"
     ]
    }
   ],
   "source": [
    "import tensorflow as tf\n",
    "from sklearn.preprocessing import LabelEncoder\n",
    "from tensorflow import feature_column\n",
    "from tensorflow.keras import layers\n",
    "from sklearn.model_selection import train_test_split\n",
    "\n",
    "\n",
    "# Specify the Object Stores pre-authenticated URL\n",
    "#fp = tf.keras.utils.get_file(fname='/root/african_crises_copy.csv', origin='file:/root/african_crises.csv')\n",
    "\n",
    "train, test = train_test_split(data, test_size=0.2)\n",
    "train, val = train_test_split(train, test_size=0.2)\n",
    "print(len(train), 'train examples')\n",
    "print(len(val), 'validation examples')\n",
    "print(len(test), 'test examples')\n",
    "\n",
    "\n"
   ]
  },
  {
   "cell_type": "code",
   "execution_count": 15,
   "metadata": {},
   "outputs": [
    {
     "name": "stdout",
     "output_type": "stream",
     "text": [
      "Every feature: ['case', 'cc3', 'country', 'year', 'systemic_crisis', 'exch_usd', 'domestic_debt_in_default', 'sovereign_external_debt_default', 'gdp_weighted_default', 'inflation_annual_cpi', 'independence', 'currency_crises', 'inflation_crises']\n",
      "A batch of inflation cpi: tf.Tensor(\n",
      "[ 2.84975748  1.30776708 15.35621451  7.617       1.392      17.06\n",
      "  4.95        5.93957349  4.54479533 11.2        13.12090131  9.38864629\n",
      "  8.903      -3.95519429  2.745      38.1935295  23.61111111  9.52760733\n",
      " -1.02849238 -3.11280343 31.7         2.857       1.80188446 38.50391131\n",
      " -0.32243718  7.835       1.89309577 -6.21694442  2.42410266  3.723\n",
      "  8.65        7.59986814], shape=(32,), dtype=float64)\n",
      "A batch of targets: tf.Tensor([1 0 1 1 1 1 1 1 1 1 1 1 1 1 1 1 1 1 1 1 0 1 1 1 1 1 1 1 1 0 1 1], shape=(32,), dtype=int64)\n"
     ]
    }
   ],
   "source": [
    "# Vocabulary for output columns\n",
    "#banking_crisis_voc = data['banking_crisis'].unique()\n",
    "\n",
    "\n",
    "# A utility method to create a tf.data dataset from a Pandas Dataframe\n",
    "def df_to_dataset(dataframe, shuffle=True, batch_size=32):\n",
    "  dataframe = dataframe.copy()\n",
    "  labels = dataframe.pop('banking_crisis')\n",
    "  le = LabelEncoder()\n",
    "  le.fit(labels)\n",
    "  Y=le.transform(labels)\n",
    "  ds = tf.data.Dataset.from_tensor_slices((dict(dataframe), Y))\n",
    "  if shuffle:\n",
    "    ds = ds.shuffle(buffer_size=len(dataframe))\n",
    "  ds = ds.batch(batch_size)\n",
    "  return ds\n",
    "\n",
    "batch_size = 32 # A small batch sized is used for demonstration purposes\n",
    "train_ds = df_to_dataset(train, batch_size=batch_size)\n",
    "val_ds = df_to_dataset(val, shuffle=False, batch_size=batch_size)\n",
    "test_ds = df_to_dataset(test, shuffle=False, batch_size=batch_size)\n",
    "\n",
    "#display(train_ds)\n",
    "for feature_batch, label_batch in train_ds.take(1):\n",
    "  print('Every feature:', list(feature_batch.keys()))\n",
    "  print('A batch of inflation cpi:', feature_batch['inflation_annual_cpi'])\n",
    "  print('A batch of targets:', label_batch )\n",
    "\n"
   ]
  },
  {
   "cell_type": "code",
   "execution_count": 4,
   "metadata": {},
   "outputs": [
    {
     "data": {
      "text/plain": [
       "[NumericColumn(key='inflation_annual_cpi', shape=(1,), default_value=None, dtype=tf.float32, normalizer_fn=None),\n",
       " NumericColumn(key='year', shape=(1,), default_value=None, dtype=tf.float32, normalizer_fn=None),\n",
       " NumericColumn(key='exch_usd', shape=(1,), default_value=None, dtype=tf.float32, normalizer_fn=None),\n",
       " NumericColumn(key='gdp_weighted_default', shape=(1,), default_value=None, dtype=tf.float32, normalizer_fn=None),\n",
       " NumericColumn(key='independence', shape=(1,), default_value=None, dtype=tf.float32, normalizer_fn=None),\n",
       " NumericColumn(key='inflation_crises', shape=(1,), default_value=None, dtype=tf.float32, normalizer_fn=None),\n",
       " NumericColumn(key='domestic_debt_in_default', shape=(1,), default_value=None, dtype=tf.float32, normalizer_fn=None),\n",
       " IndicatorColumn(categorical_column=VocabularyListCategoricalColumn(key='country', vocabulary_list=('Algeria', 'Angola', 'Central African Republic', 'Ivory Coast', 'Egypt', 'Kenya', 'Mauritius', 'Morocco', 'Nigeria', 'South Africa', 'Tunisia', 'Zambia', 'Zimbabwe'), dtype=tf.string, default_value=-1, num_oov_buckets=0))]"
      ]
     },
     "metadata": {},
     "output_type": "display_data"
    }
   ],
   "source": [
    "feature_columns = []\n",
    "\n",
    "#TODO: independence, inflation crises is category column with identity\n",
    "\n",
    "# numeric cols\n",
    "for header in ['inflation_annual_cpi', 'year', 'exch_usd', 'gdp_weighted_default', 'independence', 'inflation_crises', 'domestic_debt_in_default']:\n",
    "  feature_columns.append(feature_column.numeric_column(header))\n",
    "feature_layer = tf.keras.layers.DenseFeatures(feature_columns)\n",
    "\n",
    "# Vocabulary\n",
    "countries_voc = data['country'].unique()\n",
    "\n",
    "country = feature_column.categorical_column_with_vocabulary_list(\n",
    "      'country', countries_voc)\n",
    "country_one_hot = feature_column.indicator_column(country)\n",
    "feature_columns.append(country_one_hot)\n",
    "display(feature_columns)\n",
    "\n",
    "\n"
   ]
  },
  {
   "cell_type": "code",
   "execution_count": 9,
   "metadata": {},
   "outputs": [
    {
     "name": "stdout",
     "output_type": "stream",
     "text": [
      "Epoch 1/50\n",
      "22/22 [==============================] - 0s 14ms/step - loss: 10.7945 - accuracy: 0.7829 - val_loss: 9.4009 - val_accuracy: 0.9235\n",
      "Epoch 2/50\n",
      "22/22 [==============================] - 0s 6ms/step - loss: 7.6987 - accuracy: 0.8671 - val_loss: 2.8293 - val_accuracy: 0.9235\n",
      "Epoch 3/50\n",
      "22/22 [==============================] - 0s 7ms/step - loss: 2.0175 - accuracy: 0.8567 - val_loss: 0.3696 - val_accuracy: 0.9059\n",
      "Epoch 4/50\n",
      "22/22 [==============================] - 0s 5ms/step - loss: 2.3591 - accuracy: 0.8493 - val_loss: 1.6027 - val_accuracy: 0.9235\n",
      "Epoch 5/50\n",
      "22/22 [==============================] - 0s 6ms/step - loss: 2.2666 - accuracy: 0.8360 - val_loss: 2.2366 - val_accuracy: 0.9235\n",
      "Epoch 6/50\n",
      "22/22 [==============================] - 0s 6ms/step - loss: 1.9021 - accuracy: 0.8626 - val_loss: 0.7291 - val_accuracy: 0.8706\n",
      "Epoch 7/50\n",
      "22/22 [==============================] - 0s 5ms/step - loss: 0.6296 - accuracy: 0.8582 - val_loss: 1.2603 - val_accuracy: 0.9235\n",
      "Epoch 8/50\n",
      "22/22 [==============================] - 0s 6ms/step - loss: 0.7693 - accuracy: 0.8449 - val_loss: 1.4558 - val_accuracy: 0.9235\n",
      "Epoch 9/50\n",
      "22/22 [==============================] - 0s 5ms/step - loss: 1.7844 - accuracy: 0.8552 - val_loss: 0.7982 - val_accuracy: 0.7824\n",
      "Epoch 10/50\n",
      "22/22 [==============================] - 0s 6ms/step - loss: 0.8321 - accuracy: 0.8567 - val_loss: 0.5779 - val_accuracy: 0.9235\n",
      "Epoch 11/50\n",
      "22/22 [==============================] - 0s 7ms/step - loss: 0.5134 - accuracy: 0.8744 - val_loss: 0.3106 - val_accuracy: 0.9235\n",
      "Epoch 12/50\n",
      "22/22 [==============================] - 0s 5ms/step - loss: 0.4687 - accuracy: 0.8907 - val_loss: 0.3524 - val_accuracy: 0.8647\n",
      "Epoch 13/50\n",
      "22/22 [==============================] - 0s 5ms/step - loss: 0.9424 - accuracy: 0.8287 - val_loss: 1.6830 - val_accuracy: 0.9235\n",
      "Epoch 14/50\n",
      "22/22 [==============================] - 0s 6ms/step - loss: 1.6259 - accuracy: 0.8671 - val_loss: 0.4152 - val_accuracy: 0.9235\n",
      "Epoch 15/50\n",
      "22/22 [==============================] - 0s 5ms/step - loss: 0.8955 - accuracy: 0.8774 - val_loss: 0.3892 - val_accuracy: 0.8941\n",
      "Epoch 16/50\n",
      "22/22 [==============================] - 0s 7ms/step - loss: 0.3889 - accuracy: 0.8848 - val_loss: 0.8612 - val_accuracy: 0.3412\n",
      "Epoch 17/50\n",
      "22/22 [==============================] - 0s 6ms/step - loss: 0.4835 - accuracy: 0.8671 - val_loss: 0.2653 - val_accuracy: 0.9000\n",
      "Epoch 18/50\n",
      "22/22 [==============================] - 0s 6ms/step - loss: 0.3740 - accuracy: 0.8907 - val_loss: 0.2616 - val_accuracy: 0.9059\n",
      "Epoch 19/50\n",
      "22/22 [==============================] - 0s 7ms/step - loss: 0.3742 - accuracy: 0.9040 - val_loss: 0.4337 - val_accuracy: 0.9235\n",
      "Epoch 20/50\n",
      "22/22 [==============================] - 0s 5ms/step - loss: 0.4837 - accuracy: 0.8848 - val_loss: 0.2513 - val_accuracy: 0.9118\n",
      "Epoch 21/50\n",
      "22/22 [==============================] - 0s 5ms/step - loss: 0.2832 - accuracy: 0.9055 - val_loss: 0.2691 - val_accuracy: 0.9235\n",
      "Epoch 22/50\n",
      "22/22 [==============================] - 0s 5ms/step - loss: 0.3375 - accuracy: 0.9055 - val_loss: 0.2268 - val_accuracy: 0.9235\n",
      "Epoch 23/50\n",
      "22/22 [==============================] - 0s 5ms/step - loss: 0.4502 - accuracy: 0.8552 - val_loss: 0.2536 - val_accuracy: 0.9235\n",
      "Epoch 24/50\n",
      "22/22 [==============================] - 0s 6ms/step - loss: 0.3337 - accuracy: 0.9040 - val_loss: 0.2443 - val_accuracy: 0.9176\n",
      "Epoch 25/50\n",
      "22/22 [==============================] - 0s 5ms/step - loss: 0.3439 - accuracy: 0.9040 - val_loss: 0.2398 - val_accuracy: 0.9235\n",
      "Epoch 26/50\n",
      "22/22 [==============================] - 0s 6ms/step - loss: 0.3190 - accuracy: 0.9069 - val_loss: 0.2646 - val_accuracy: 0.9235\n",
      "Epoch 27/50\n",
      "22/22 [==============================] - 0s 5ms/step - loss: 0.4120 - accuracy: 0.8936 - val_loss: 0.4044 - val_accuracy: 0.8647\n",
      "Epoch 28/50\n",
      "22/22 [==============================] - 0s 5ms/step - loss: 0.3634 - accuracy: 0.8892 - val_loss: 0.3226 - val_accuracy: 0.8882\n",
      "Epoch 29/50\n",
      "22/22 [==============================] - 0s 5ms/step - loss: 0.4821 - accuracy: 0.8597 - val_loss: 0.3341 - val_accuracy: 0.9176\n",
      "Epoch 30/50\n",
      "22/22 [==============================] - 0s 5ms/step - loss: 0.3513 - accuracy: 0.8936 - val_loss: 0.2460 - val_accuracy: 0.9000\n",
      "Epoch 31/50\n",
      "22/22 [==============================] - 0s 6ms/step - loss: 0.4556 - accuracy: 0.8877 - val_loss: 0.3733 - val_accuracy: 0.9235\n",
      "Epoch 32/50\n",
      "22/22 [==============================] - 0s 7ms/step - loss: 0.3348 - accuracy: 0.8951 - val_loss: 0.2509 - val_accuracy: 0.9235\n",
      "Epoch 33/50\n",
      "22/22 [==============================] - 0s 5ms/step - loss: 0.3529 - accuracy: 0.8951 - val_loss: 0.2718 - val_accuracy: 0.9235\n",
      "Epoch 34/50\n",
      "22/22 [==============================] - 0s 5ms/step - loss: 0.3938 - accuracy: 0.9025 - val_loss: 0.4441 - val_accuracy: 0.9294\n",
      "Epoch 35/50\n",
      "22/22 [==============================] - 0s 5ms/step - loss: 0.5189 - accuracy: 0.8523 - val_loss: 0.4042 - val_accuracy: 0.9235\n",
      "Epoch 36/50\n",
      "22/22 [==============================] - 0s 5ms/step - loss: 0.4497 - accuracy: 0.8818 - val_loss: 0.2368 - val_accuracy: 0.9235\n",
      "Epoch 37/50\n",
      "22/22 [==============================] - 0s 6ms/step - loss: 0.4171 - accuracy: 0.8951 - val_loss: 0.2325 - val_accuracy: 0.9235\n",
      "Epoch 38/50\n",
      "22/22 [==============================] - 0s 6ms/step - loss: 0.3581 - accuracy: 0.8936 - val_loss: 0.3710 - val_accuracy: 0.8882\n",
      "Epoch 39/50\n",
      "22/22 [==============================] - 0s 5ms/step - loss: 0.4630 - accuracy: 0.8656 - val_loss: 0.2319 - val_accuracy: 0.9294\n",
      "Epoch 40/50\n",
      "22/22 [==============================] - 0s 5ms/step - loss: 0.3447 - accuracy: 0.9040 - val_loss: 0.2750 - val_accuracy: 0.8824\n",
      "Epoch 41/50\n",
      "22/22 [==============================] - 0s 5ms/step - loss: 0.2981 - accuracy: 0.9040 - val_loss: 0.2726 - val_accuracy: 0.9235\n",
      "Epoch 42/50\n",
      "22/22 [==============================] - 0s 7ms/step - loss: 0.3362 - accuracy: 0.8907 - val_loss: 0.2948 - val_accuracy: 0.9235\n",
      "Epoch 43/50\n",
      "22/22 [==============================] - 0s 7ms/step - loss: 0.2989 - accuracy: 0.9069 - val_loss: 0.2605 - val_accuracy: 0.9235\n",
      "Epoch 44/50\n",
      "22/22 [==============================] - 0s 7ms/step - loss: 0.3351 - accuracy: 0.9010 - val_loss: 0.2358 - val_accuracy: 0.9235\n",
      "Epoch 45/50\n",
      "22/22 [==============================] - 0s 6ms/step - loss: 0.3358 - accuracy: 0.9069 - val_loss: 0.3103 - val_accuracy: 0.8765\n",
      "Epoch 46/50\n",
      "22/22 [==============================] - 0s 5ms/step - loss: 0.3266 - accuracy: 0.8951 - val_loss: 0.3119 - val_accuracy: 0.9000\n",
      "Epoch 47/50\n",
      "22/22 [==============================] - 0s 5ms/step - loss: 0.3279 - accuracy: 0.8951 - val_loss: 0.2291 - val_accuracy: 0.9235\n",
      "Epoch 48/50\n",
      "22/22 [==============================] - 0s 5ms/step - loss: 0.2896 - accuracy: 0.9114 - val_loss: 0.2471 - val_accuracy: 0.9235\n",
      "Epoch 49/50\n",
      "22/22 [==============================] - 0s 7ms/step - loss: 0.3252 - accuracy: 0.8996 - val_loss: 0.2303 - val_accuracy: 0.9235\n",
      "Epoch 50/50\n",
      "22/22 [==============================] - 0s 7ms/step - loss: 0.2907 - accuracy: 0.9040 - val_loss: 0.3251 - val_accuracy: 0.9235\n"
     ]
    }
   ],
   "source": [
    "model = tf.keras.Sequential([\n",
    "  feature_layer,\n",
    "  layers.Dense(128, activation='relu'),\n",
    "  layers.Dense(128, activation='relu'),\n",
    "  layers.Dense(128, activation='relu'),\n",
    "  layers.Dense(1, activation='sigmoid')\n",
    "])\n",
    "\n",
    "model.compile(optimizer='adam',\n",
    "              loss='binary_crossentropy',\n",
    "              metrics=['accuracy'])\n",
    "\n",
    "history = model.fit(train_ds,\n",
    "          validation_data=val_ds,\n",
    "          epochs=50)\n"
   ]
  },
  {
   "cell_type": "code",
   "execution_count": 10,
   "metadata": {},
   "outputs": [],
   "source": [
    "import matplotlib.pyplot as plt\n",
    "acc = history.history['accuracy']\n",
    "val_acc = history.history['val_accuracy']\n",
    "loss = history.history['loss']\n",
    "val_loss = history.history['val_loss']\n",
    "\n",
    "epochs = range(1, len(acc)+1)\n"
   ]
  },
  {
   "cell_type": "code",
   "execution_count": 11,
   "metadata": {},
   "outputs": [
    {
     "data": {
      "text/plain": [
       "<Figure size 432x288 with 0 Axes>"
      ]
     },
     "execution_count": 11,
     "metadata": {},
     "output_type": "execute_result"
    },
    {
     "data": {
      "image/png": "[encoded data removed]",
      "text/plain": [
       "<Figure size 432x288 with 1 Axes>"
      ]
     },
     "metadata": {},
     "output_type": "display_data"
    },
    {
     "data": {
      "text/plain": [
       "<Figure size 432x288 with 0 Axes>"
      ]
     },
     "metadata": {},
     "output_type": "display_data"
    }
   ],
   "source": [
    "plt.plot(epochs, acc, 'bo', label='Training accuracy')\n",
    "plt.plot(epochs, val_acc, 'b', label='Validation accuracy')\n",
    "plt.title(\"Training and Validation Accuracy\")\n",
    "plt.legend()\n",
    "plt.figure()"
   ]
  },
  {
   "cell_type": "code",
   "execution_count": 12,
   "metadata": {},
   "outputs": [
    {
     "data": {
      "text/plain": [
       "<Figure size 432x288 with 0 Axes>"
      ]
     },
     "execution_count": 12,
     "metadata": {},
     "output_type": "execute_result"
    },
    {
     "data": {
      "image/png": "[encoded data removed]",
      "text/plain": [
       "<Figure size 432x288 with 1 Axes>"
      ]
     },
     "metadata": {},
     "output_type": "display_data"
    },
    {
     "data": {
      "text/plain": [
       "<Figure size 432x288 with 0 Axes>"
      ]
     },
     "metadata": {},
     "output_type": "display_data"
    }
   ],
   "source": [
    "plt.plot(epochs, loss, 'bo', label='Training loss')\n",
    "plt.plot(epochs, val_loss, 'b', label='Validation loss')\n",
    "plt.title(\"Training and Validation Loss\")\n",
    "plt.legend()\n",
    "plt.figure()"
   ]
  },
  {
   "cell_type": "code",
   "execution_count": null,
   "metadata": {},
   "outputs": [],
   "source": []
  }
 ],
 "metadata": {
  "kernelspec": {
   "display_name": "Python 3",
   "language": "python",
   "name": "python3"
  },
  "language_info": {
   "codemirror_mode": {
    "name": "ipython",
    "version": 3
   },
   "file_extension": ".py",
   "mimetype": "text/x-python",
   "name": "python",
   "nbconvert_exporter": "python",
   "pygments_lexer": "ipython3",
   "version": "3.6.8"
  }
 },
 "nbformat": 4,
 "nbformat_minor": 2
}
