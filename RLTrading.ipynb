{
 "cells": [
  {
   "cell_type": "code",
   "execution_count": 1,
   "metadata": {},
   "outputs": [],
   "source": [
    "import os\n",
    "import pymysql\n",
    "import pandas as pd"
   ]
  },
  {
   "cell_type": "code",
   "execution_count": 2,
   "metadata": {},
   "outputs": [],
   "source": [
    "host = 'localhost'\n",
    "port = 3306\n",
    "user = 'root'\n",
    "password = os.getenv('MYSQL_PASSWORD')\n",
    "database = 'money'\n"
   ]
  },
  {
   "cell_type": "code",
   "execution_count": 3,
   "metadata": {},
   "outputs": [],
   "source": [
    "conn = pymysql.connect(\n",
    "    host=host,\n",
    "    port=port,\n",
    "    user=user,\n",
    "    passwd=password,\n",
    "    db=database,\n",
    "    charset='utf8mb4')"
   ]
  },
  {
   "cell_type": "code",
   "execution_count": 4,
   "metadata": {},
   "outputs": [],
   "source": [
    "import matplotlib.pyplot as plt\n",
    "import seaborn as sns\n",
    "sns.set(style='whitegrid')"
   ]
  },
  {
   "cell_type": "markdown",
   "metadata": {},
   "source": [
    "# ORCL Stocks"
   ]
  },
  {
   "cell_type": "code",
   "execution_count": 5,
   "metadata": {},
   "outputs": [
    {
     "data": {
      "text/html": [
       "<div>\n",
       "<style scoped>\n",
       "    .dataframe tbody tr th:only-of-type {\n",
       "        vertical-align: middle;\n",
       "    }\n",
       "\n",
       "    .dataframe tbody tr th {\n",
       "        vertical-align: top;\n",
       "    }\n",
       "\n",
       "    .dataframe thead th {\n",
       "        text-align: right;\n",
       "    }\n",
       "</style>\n",
       "<table border=\"1\" class=\"dataframe\">\n",
       "  <thead>\n",
       "    <tr style=\"text-align: right;\">\n",
       "      <th></th>\n",
       "      <th>name</th>\n",
       "      <th>description</th>\n",
       "      <th>exchange</th>\n",
       "      <th>day</th>\n",
       "      <th>open</th>\n",
       "      <th>high</th>\n",
       "      <th>low</th>\n",
       "      <th>close</th>\n",
       "      <th>adj_close</th>\n",
       "      <th>volume</th>\n",
       "      <th>open_interest</th>\n",
       "    </tr>\n",
       "  </thead>\n",
       "  <tbody>\n",
       "    <tr>\n",
       "      <th>0</th>\n",
       "      <td>ORCL</td>\n",
       "      <td></td>\n",
       "      <td>nyse stocks</td>\n",
       "      <td>2010-01-04</td>\n",
       "      <td>21.858</td>\n",
       "      <td>22.308</td>\n",
       "      <td>21.839</td>\n",
       "      <td>22.003</td>\n",
       "      <td>-1.0</td>\n",
       "      <td>30256580</td>\n",
       "      <td>0</td>\n",
       "    </tr>\n",
       "    <tr>\n",
       "      <th>1</th>\n",
       "      <td>ORCL</td>\n",
       "      <td></td>\n",
       "      <td>nyse stocks</td>\n",
       "      <td>2010-01-05</td>\n",
       "      <td>21.904</td>\n",
       "      <td>22.003</td>\n",
       "      <td>21.564</td>\n",
       "      <td>21.979</td>\n",
       "      <td>-1.0</td>\n",
       "      <td>32372102</td>\n",
       "      <td>0</td>\n",
       "    </tr>\n",
       "    <tr>\n",
       "      <th>2</th>\n",
       "      <td>ORCL</td>\n",
       "      <td></td>\n",
       "      <td>nyse stocks</td>\n",
       "      <td>2010-01-06</td>\n",
       "      <td>21.804</td>\n",
       "      <td>22.070</td>\n",
       "      <td>21.591</td>\n",
       "      <td>21.663</td>\n",
       "      <td>-1.0</td>\n",
       "      <td>27733637</td>\n",
       "      <td>0</td>\n",
       "    </tr>\n",
       "    <tr>\n",
       "      <th>3</th>\n",
       "      <td>ORCL</td>\n",
       "      <td></td>\n",
       "      <td>nyse stocks</td>\n",
       "      <td>2010-01-07</td>\n",
       "      <td>21.671</td>\n",
       "      <td>21.794</td>\n",
       "      <td>21.322</td>\n",
       "      <td>21.591</td>\n",
       "      <td>-1.0</td>\n",
       "      <td>34395957</td>\n",
       "      <td>0</td>\n",
       "    </tr>\n",
       "    <tr>\n",
       "      <th>4</th>\n",
       "      <td>ORCL</td>\n",
       "      <td></td>\n",
       "      <td>nyse stocks</td>\n",
       "      <td>2010-01-08</td>\n",
       "      <td>21.486</td>\n",
       "      <td>21.920</td>\n",
       "      <td>21.478</td>\n",
       "      <td>21.858</td>\n",
       "      <td>-1.0</td>\n",
       "      <td>26583746</td>\n",
       "      <td>0</td>\n",
       "    </tr>\n",
       "  </tbody>\n",
       "</table>\n",
       "</div>"
      ],
      "text/plain": [
       "   name description     exchange         day    open    high     low   close  \\\n",
       "0  ORCL              nyse stocks  2010-01-04  21.858  22.308  21.839  22.003   \n",
       "1  ORCL              nyse stocks  2010-01-05  21.904  22.003  21.564  21.979   \n",
       "2  ORCL              nyse stocks  2010-01-06  21.804  22.070  21.591  21.663   \n",
       "3  ORCL              nyse stocks  2010-01-07  21.671  21.794  21.322  21.591   \n",
       "4  ORCL              nyse stocks  2010-01-08  21.486  21.920  21.478  21.858   \n",
       "\n",
       "   adj_close    volume  open_interest  \n",
       "0       -1.0  30256580              0  \n",
       "1       -1.0  32372102              0  \n",
       "2       -1.0  27733637              0  \n",
       "3       -1.0  34395957              0  \n",
       "4       -1.0  26583746              0  "
      ]
     },
     "execution_count": 5,
     "metadata": {},
     "output_type": "execute_result"
    }
   ],
   "source": [
    "df = pd.read_sql_query(\n",
    "    \"\"\"\n",
    "    select * from tickers_daily where name='ORCL' and day>'2010-01-01';\n",
    "    \"\"\"\n",
    "    ,\n",
    "    conn\n",
    ")\n",
    "df.head()"
   ]
  },
  {
   "cell_type": "code",
   "execution_count": 6,
   "metadata": {},
   "outputs": [
    {
     "name": "stderr",
     "output_type": "stream",
     "text": [
      "/Users/mikc/.virtualenvs/cv/lib/python2.7/site-packages/pandas/plotting/_converter.py:129: FutureWarning: Using an implicitly registered datetime converter for a matplotlib plotting method. The converter was registered by pandas on import. Future versions of pandas will require you to explicitly register matplotlib converters.\n",
      "\n",
      "To register the converters:\n",
      "\t>>> from pandas.plotting import register_matplotlib_converters\n",
      "\t>>> register_matplotlib_converters()\n",
      "  warnings.warn(msg, FutureWarning)\n"
     ]
    },
    {
     "data": {
      "text/plain": [
       "<matplotlib.axes._subplots.AxesSubplot at 0x11a45f1d0>"
      ]
     },
     "execution_count": 6,
     "metadata": {},
     "output_type": "execute_result"
    },
    {
     "data": {
      "image/png": "[encoded data removed]",
      "text/plain": [
       "<Figure size 432x288 with 1 Axes>"
      ]
     },
     "metadata": {
      "needs_background": "light"
     },
     "output_type": "display_data"
    }
   ],
   "source": [
    "sns.lineplot(df['day'], df['open'], label='ORCL Stock Price', color='red')"
   ]
  },
  {
   "cell_type": "code",
   "execution_count": 57,
   "metadata": {},
   "outputs": [],
   "source": [
    "class Environment(object):\n",
    "    def __init__(self, data, history_t=90):\n",
    "        self.data = data\n",
    "        self.history_t = history_t\n",
    "        self.reset()\n",
    "        \n",
    "    def reset(self):\n",
    "        self.t = 0\n",
    "        self.done = False\n",
    "        self.profits = 0\n",
    "        self.positions = []\n",
    "        self.position_value = 0\n",
    "        self.history = [0 for _ in range(self.history_t)]\n",
    "        return [self.position_value] + self.history # obs\n",
    "    \n",
    "    def step(self, act):\n",
    "        reward = 0\n",
    "        \n",
    "        # act = 0: stay, 1: buy, 2: sell\n",
    "        if act == 1:\n",
    "            print(\"AAAA\")\n",
    "            self.positions.append(self.data.iloc[self.t, :]['close'])\n",
    "        elif act == 2: # sell\n",
    "            if len(self.positions) == 0:\n",
    "                reward = -1\n",
    "            else:\n",
    "                profits = 0\n",
    "                for p in self.positions:\n",
    "                    profits += (self.data.iloc[self.t, :]['close'] - p)\n",
    "                reward += profits\n",
    "                self.profits += profits\n",
    "                self.positions = []\n",
    "        \n",
    "        # set next time\n",
    "        self.t += 1\n",
    "        \n",
    "        self.position_value = 0\n",
    "        for p in self.positions:\n",
    "            self.position_value += (self.data.iloc[self.t, :]['close'] - p)\n",
    "        self.history.pop(0)\n",
    "        self.history.append(self.data.iloc[self.t, :]['close'] - self.data.iloc[(self.t-1), :]['close'])\n",
    "        if (self.t==len(self.data)-1):\n",
    "            self.done=True\n",
    "        # clipping reward\n",
    "        if reward > 0:\n",
    "            reward = 1\n",
    "        elif reward < 0:\n",
    "            reward = -1\n",
    "        #print (\"t={%d}, done={%str}\"%(self.t,self.done))\n",
    "        return [self.position_value] + self.history, reward, self.done # obs, reward, done\n",
    "        "
   ]
  },
  {
   "cell_type": "code",
   "execution_count": 62,
   "metadata": {},
   "outputs": [
    {
     "name": "stdout",
     "output_type": "stream",
     "text": [
      "AAAA\n"
     ]
    },
    {
     "data": {
      "text/plain": [
       "([0,\n",
       "  -0.018000000000000682,\n",
       "  -0.09799999999999898,\n",
       "  0.11599999999999966,\n",
       "  -0.09799999999999898,\n",
       "  -0.17600000000000193,\n",
       "  -0.18799999999999883,\n",
       "  -0.40500000000000114,\n",
       "  0.39000000000000057,\n",
       "  -0.18599999999999994,\n",
       "  -0.6229999999999976,\n",
       "  -0.25900000000000034,\n",
       "  0.08299999999999841,\n",
       "  0.2469999999999999,\n",
       "  0.4349999999999987,\n",
       "  0.6820000000000022,\n",
       "  0.11499999999999844,\n",
       "  0.13300000000000267,\n",
       "  0.00999999999999801,\n",
       "  0.29100000000000037,\n",
       "  0.20700000000000074,\n",
       "  -0.10200000000000031,\n",
       "  -0.495000000000001,\n",
       "  0.28500000000000014,\n",
       "  0.2940000000000005,\n",
       "  -0.3210000000000015,\n",
       "  0.6630000000000003,\n",
       "  0.1700000000000017,\n",
       "  0.12300000000000111,\n",
       "  -0.06400000000000006,\n",
       "  -0.2560000000000002,\n",
       "  -0.5120000000000005,\n",
       "  -0.0519999999999996,\n",
       "  0.5719999999999992,\n",
       "  -0.06599999999999895,\n",
       "  0.24599999999999866,\n",
       "  -0.17999999999999972,\n",
       "  0.08200000000000074,\n",
       "  -0.10500000000000043,\n",
       "  0.022999999999999687,\n",
       "  -0.5530000000000008,\n",
       "  -0.6400000000000006,\n",
       "  -0.2469999999999999,\n",
       "  0.05100000000000193,\n",
       "  0.2940000000000005,\n",
       "  0.03399999999999892,\n",
       "  -0.08000000000000185,\n",
       "  0.019000000000001904,\n",
       "  -0.16000000000000014,\n",
       "  -0.3810000000000002,\n",
       "  0.007999999999999119,\n",
       "  -0.1479999999999997,\n",
       "  0.23000000000000043,\n",
       "  -0.43700000000000117,\n",
       "  -0.15899999999999892,\n",
       "  0.6930000000000014,\n",
       "  -0.12600000000000122,\n",
       "  0.39199999999999946,\n",
       "  1.1870000000000012,\n",
       "  -0.10800000000000054,\n",
       "  0.1670000000000016,\n",
       "  0.639999999999997,\n",
       "  0.0519999999999996,\n",
       "  0.23900000000000077,\n",
       "  0.3210000000000015,\n",
       "  -0.33699999999999974,\n",
       "  1.8759999999999977,\n",
       "  0.010000000000001563,\n",
       "  -0.5940000000000012,\n",
       "  0.3360000000000021,\n",
       "  -0.07200000000000273,\n",
       "  -0.14199999999999946,\n",
       "  -0.007999999999999119,\n",
       "  0.21300000000000097,\n",
       "  -0.018000000000000682,\n",
       "  -0.2839999999999989,\n",
       "  0.34499999999999886,\n",
       "  -0.3009999999999984,\n",
       "  0.3569999999999993,\n",
       "  0.24899999999999878,\n",
       "  0.09499999999999886,\n",
       "  0.2740000000000009,\n",
       "  -0.13100000000000023,\n",
       "  0.08699999999999974,\n",
       "  0.5779999999999994,\n",
       "  -0.24199999999999733,\n",
       "  0.504999999999999,\n",
       "  0.29299999999999926,\n",
       "  -0.08800000000000097,\n",
       "  -0.4349999999999987,\n",
       "  0.16000000000000014],\n",
       " 1,\n",
       " False)"
      ]
     },
     "execution_count": 62,
     "metadata": {},
     "output_type": "execute_result"
    }
   ],
   "source": [
    "env=Environment(df)\n",
    "env.step(1)\n",
    "for i in range(200):\n",
    "    env.step(0)\n",
    "env.step(2)"
   ]
  },
  {
   "cell_type": "code",
   "execution_count": null,
   "metadata": {},
   "outputs": [],
   "source": []
  }
 ],
 "metadata": {
  "kernelspec": {
   "display_name": "Python 2",
   "language": "python",
   "name": "python2"
  },
  "language_info": {
   "codemirror_mode": {
    "name": "ipython",
    "version": 2
   },
   "file_extension": ".py",
   "mimetype": "text/x-python",
   "name": "python",
   "nbconvert_exporter": "python",
   "pygments_lexer": "ipython2",
   "version": "2.7.16"
  }
 },
 "nbformat": 4,
 "nbformat_minor": 2
}
