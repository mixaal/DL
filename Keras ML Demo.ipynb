{
 "cells": [
  {
   "cell_type": "code",
   "execution_count": 2,
   "metadata": {},
   "outputs": [],
   "source": [
    "from __future__ import print_function\n",
    "import keras\n",
    "from keras.datasets import mnist\n",
    "from keras.models import Sequential\n",
    "from keras.layers import Dense, Dropout, Flatten\n",
    "from keras.layers import Conv2D, MaxPooling2D\n",
    "from keras import backend as K\n"
   ]
  },
  {
   "cell_type": "code",
   "execution_count": 3,
   "metadata": {},
   "outputs": [],
   "source": [
    "batch_size = 128\n",
    "num_classes = 10\n",
    "epochs = 12\n",
    "\n",
    "# input image dimensions\n",
    "img_rows, img_cols = 28, 28\n"
   ]
  },
  {
   "cell_type": "code",
   "execution_count": 4,
   "metadata": {},
   "outputs": [
    {
     "name": "stdout",
     "output_type": "stream",
     "text": [
      "x_train shape: (60000, 28, 28, 1)\n",
      "60000 train samples\n",
      "10000 test samples\n"
     ]
    }
   ],
   "source": [
    "# the data, split between train and test sets\n",
    "(x_train, y_train), (x_test, y_test) = mnist.load_data()\n",
    "\n",
    "if K.image_data_format() == 'channels_first':\n",
    "    x_train = x_train.reshape(x_train.shape[0], 1, img_rows, img_cols)\n",
    "    x_test = x_test.reshape(x_test.shape[0], 1, img_rows, img_cols)\n",
    "    input_shape = (1, img_rows, img_cols)\n",
    "else:\n",
    "    x_train = x_train.reshape(x_train.shape[0], img_rows, img_cols, 1)\n",
    "    x_test = x_test.reshape(x_test.shape[0], img_rows, img_cols, 1)\n",
    "    input_shape = (img_rows, img_cols, 1)\n",
    "\n",
    "x_train = x_train.astype('float32')\n",
    "x_test = x_test.astype('float32')\n",
    "x_train /= 255\n",
    "x_test /= 255\n",
    "print('x_train shape:', x_train.shape)\n",
    "print(x_train.shape[0], 'train samples')\n",
    "print(x_test.shape[0], 'test samples')\n"
   ]
  },
  {
   "cell_type": "code",
   "execution_count": 5,
   "metadata": {},
   "outputs": [],
   "source": [
    "# convert class vectors to binary class matrices\n",
    "y_train = keras.utils.to_categorical(y_train, num_classes)\n",
    "y_test = keras.utils.to_categorical(y_test, num_classes)\n",
    "\n",
    "model = Sequential()\n",
    "model.add(Conv2D(32, kernel_size=(3, 3),\n",
    "                 activation='relu',\n",
    "                 input_shape=input_shape))\n",
    "model.add(Conv2D(64, (3, 3), activation='relu'))\n",
    "model.add(MaxPooling2D(pool_size=(2, 2)))\n",
    "model.add(Dropout(0.25))\n",
    "model.add(Flatten())\n",
    "model.add(Dense(128, activation='relu'))\n",
    "model.add(Dropout(0.5))\n",
    "model.add(Dense(num_classes, activation='softmax'))\n",
    "\n",
    "model.compile(loss=keras.losses.categorical_crossentropy,\n",
    "              optimizer=keras.optimizers.Adadelta(),\n",
    "              metrics=['accuracy'])\n"
   ]
  },
  {
   "cell_type": "code",
   "execution_count": 6,
   "metadata": {},
   "outputs": [
    {
     "name": "stdout",
     "output_type": "stream",
     "text": [
      "Train on 60000 samples, validate on 10000 samples\n",
      "Epoch 1/12\n",
      "60000/60000 [==============================] - 5s 89us/step - loss: 0.2595 - accuracy: 0.9194 - val_loss: 0.0687 - val_accuracy: 0.9785\n",
      "Epoch 2/12\n",
      "60000/60000 [==============================] - 3s 43us/step - loss: 0.0874 - accuracy: 0.9736 - val_loss: 0.0420 - val_accuracy: 0.9860\n",
      "Epoch 3/12\n",
      "60000/60000 [==============================] - 3s 43us/step - loss: 0.0658 - accuracy: 0.9800 - val_loss: 0.0357 - val_accuracy: 0.9875\n",
      "Epoch 4/12\n",
      "60000/60000 [==============================] - 3s 43us/step - loss: 0.0540 - accuracy: 0.9844 - val_loss: 0.0296 - val_accuracy: 0.9900\n",
      "Epoch 5/12\n",
      "60000/60000 [==============================] - 3s 43us/step - loss: 0.0453 - accuracy: 0.9867 - val_loss: 0.0336 - val_accuracy: 0.9890\n",
      "Epoch 6/12\n",
      "60000/60000 [==============================] - 3s 43us/step - loss: 0.0412 - accuracy: 0.9872 - val_loss: 0.0310 - val_accuracy: 0.9901\n",
      "Epoch 7/12\n",
      "60000/60000 [==============================] - 3s 43us/step - loss: 0.0387 - accuracy: 0.9880 - val_loss: 0.0286 - val_accuracy: 0.9905\n",
      "Epoch 8/12\n",
      "60000/60000 [==============================] - 3s 43us/step - loss: 0.0334 - accuracy: 0.9893 - val_loss: 0.0309 - val_accuracy: 0.9903\n",
      "Epoch 9/12\n",
      "60000/60000 [==============================] - 3s 43us/step - loss: 0.0323 - accuracy: 0.9901 - val_loss: 0.0282 - val_accuracy: 0.9916\n",
      "Epoch 10/12\n",
      "60000/60000 [==============================] - 3s 43us/step - loss: 0.0289 - accuracy: 0.9912 - val_loss: 0.0289 - val_accuracy: 0.9908\n",
      "Epoch 11/12\n",
      "60000/60000 [==============================] - 3s 43us/step - loss: 0.0257 - accuracy: 0.9918 - val_loss: 0.0280 - val_accuracy: 0.9918\n",
      "Epoch 12/12\n",
      "60000/60000 [==============================] - 3s 43us/step - loss: 0.0256 - accuracy: 0.9919 - val_loss: 0.0270 - val_accuracy: 0.9920\n",
      "Test loss: 0.0269815968459\n",
      "Test accuracy: 0.991999983788\n"
     ]
    }
   ],
   "source": [
    "model.fit(x_train, y_train,\n",
    "          batch_size=batch_size,\n",
    "          epochs=epochs,\n",
    "          verbose=1,\n",
    "          validation_data=(x_test, y_test))\n",
    "score = model.evaluate(x_test, y_test, verbose=0)\n",
    "print('Test loss:', score[0])\n",
    "print('Test accuracy:', score[1])\n"
   ]
  },
  {
   "cell_type": "code",
   "execution_count": null,
   "metadata": {},
   "outputs": [],
   "source": []
  }
 ],
 "metadata": {
  "kernelspec": {
   "display_name": "Python 2",
   "language": "python",
   "name": "python2"
  },
  "language_info": {
   "codemirror_mode": {
    "name": "ipython",
    "version": 2
   },
   "file_extension": ".py",
   "mimetype": "text/x-python",
   "name": "python",
   "nbconvert_exporter": "python",
   "pygments_lexer": "ipython2",
   "version": "2.7.5"
  }
 },
 "nbformat": 4,
 "nbformat_minor": 2
}
